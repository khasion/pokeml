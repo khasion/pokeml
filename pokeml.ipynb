{
 "cells": [
  {
   "cell_type": "markdown",
   "metadata": {},
   "source": [
    "<h1>Who is that Pokemon?!</h1>"
   ]
  },
  {
   "cell_type": "code",
   "execution_count": 9,
   "metadata": {},
   "outputs": [],
   "source": [
    "import os\n",
    "import cv2\n",
    "import numpy as np\n",
    "import pandas as pd\n",
    "from sklearn.model_selection import train_test_split\n",
    "from sklearn.preprocessing import LabelEncoder\n",
    "\n",
    "DATA_DIRS = [\"kaggle-pokemon\", \"huggingface-pokemon\"]\n",
    "IMG_SIZE = (128, 128)"
   ]
  },
  {
   "cell_type": "markdown",
   "metadata": {},
   "source": [
    "<h2>1. Set Up and Load the Data</h2>"
   ]
  },
  {
   "cell_type": "code",
   "execution_count": 12,
   "metadata": {},
   "outputs": [],
   "source": [
    "def load_images(data_dirs, img_size):\n",
    "    data = []\n",
    "    for data_dir in data_dirs:\n",
    "        for label in os.listdir(data_dir):\n",
    "            folder_path = os.path.join(data_dir, label)\n",
    "            if label not in [\"Bulbasaur\", \"Squirtle\", \"Charmander\", \"Pikachu\"]:\n",
    "                continue\n",
    "            if os.path.isdir(folder_path):\n",
    "                for file in os.listdir(folder_path):\n",
    "                    img_path = os.path.join(folder_path, file)\n",
    "                    if file.endswith((\"png\", \"jpg\", \"jpeg\")):\n",
    "                        img = cv2.imread(img_path)\n",
    "                        if img is not None:\n",
    "                            img_resized = cv2.resize(img, img_size)\n",
    "                            data.append({\"image\": img_resized, \"label\": label})\n",
    "    return data\n",
    "\n",
    "data = load_images(DATA_DIRS, IMG_SIZE)\n",
    "df = pd.DataFrame(data)\n"
   ]
  },
  {
   "cell_type": "code",
   "execution_count": 13,
   "metadata": {},
   "outputs": [
    {
     "name": "stdout",
     "output_type": "stream",
     "text": [
      "                                                 image      label\n",
      "0    [[[0, 0, 0], [0, 0, 0], [0, 0, 0], [0, 0, 0], ...  Bulbasaur\n",
      "1    [[[255, 255, 255], [255, 255, 255], [255, 255,...  Bulbasaur\n",
      "2    [[[0, 0, 0], [0, 0, 0], [0, 0, 0], [0, 0, 0], ...  Bulbasaur\n",
      "3    [[[0, 0, 0], [0, 0, 0], [0, 0, 0], [0, 0, 0], ...  Bulbasaur\n",
      "4    [[[255, 255, 255], [255, 255, 255], [255, 255,...  Bulbasaur\n",
      "..                                                 ...        ...\n",
      "814  [[[0, 0, 0], [0, 0, 0], [0, 0, 0], [0, 0, 0], ...    Pikachu\n",
      "815  [[[0, 0, 0], [0, 0, 0], [0, 0, 0], [0, 0, 0], ...    Pikachu\n",
      "816  [[[2, 0, 1], [0, 0, 1], [0, 0, 0], [0, 0, 0], ...    Pikachu\n",
      "817  [[[0, 2, 1], [1, 1, 0], [7, 4, 1], [9, 0, 0], ...    Pikachu\n",
      "818  [[[254, 254, 254], [254, 254, 254], [254, 254,...    Pikachu\n",
      "\n",
      "[819 rows x 2 columns]\n"
     ]
    }
   ],
   "source": [
    "print(df)"
   ]
  },
  {
   "cell_type": "markdown",
   "metadata": {},
   "source": [
    "<h2>2. Preprocessing</h2>"
   ]
  },
  {
   "cell_type": "code",
   "execution_count": null,
   "metadata": {},
   "outputs": [],
   "source": [
    "def extract_color_histogram(image):\n",
    "    hist = cv2.calcHist([image], [0, 1, 2], None, [8, 8, 8], [0, 256, 0, 256, 0, 256])\n",
    "    cv2.normalize(hist, hist)\n",
    "    return hist.flatten()"
   ]
  },
  {
   "cell_type": "code",
   "execution_count": null,
   "metadata": {},
   "outputs": [],
   "source": [
    "def extract_edge_features(image):\n",
    "    gray = cv2.cvtColor(image, cv2.COLOR_BGR2GRAY)\n",
    "    edges = cv2.Canny(gray, 100, 200)\n",
    "    return edges.flatten()"
   ]
  },
  {
   "cell_type": "code",
   "execution_count": null,
   "metadata": {},
   "outputs": [],
   "source": []
  }
 ],
 "metadata": {
  "kernelspec": {
   "display_name": "msc",
   "language": "python",
   "name": "python3"
  },
  "language_info": {
   "codemirror_mode": {
    "name": "ipython",
    "version": 3
   },
   "file_extension": ".py",
   "mimetype": "text/x-python",
   "name": "python",
   "nbconvert_exporter": "python",
   "pygments_lexer": "ipython3",
   "version": "3.11.10"
  }
 },
 "nbformat": 4,
 "nbformat_minor": 2
}
